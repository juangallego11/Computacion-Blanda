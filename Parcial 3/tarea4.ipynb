{
 "cells": [
  {
   "cell_type": "markdown",
   "metadata": {},
   "source": [
    "# Taller Inteligencia Artificial\n",
    "## Regresión Logística"
   ]
  },
  {
   "cell_type": "markdown",
   "metadata": {},
   "source": [
    "### Contexto y Perspectiva\n",
    "\n",
    "La industria de la música tiene un mercado bien desarrollado con un ingreso anual global de alrededor de 15 mil millones de dolares. La industria discográfica es muy competitiva y está dominada por tres grandes productoras que representan casi el 82% de las ventas anuales totales de álbumes.\n",
    "\n",
    "Los artistas son el núcleo de la industria de la música y los sellos discográficos les proporcionan los recursos necesarios para vender su música a gran escala. Un sello discográfico incurre en numerosos costos (grabación en estudio, marketing, distribución y giras) a cambio de un porcentaje de las ganancias de la venta de álbumes, sencillos y entradas para conciertos.\n",
    "\n",
    "Desafortunadamente, el éxito del lanzamiento de un artista es muy incierto: un sencillo puede ser extremadamente popular, lo que resulta en una reproducción radial generalizada y descargas digitales, mientras que otro sencillo puede resultar bastante impopular y, por lo tanto, no rentable.\n",
    "\n",
    "Conociendo la naturaleza competitiva de la industria discográfica, los sellos discográficos enfrentan el problema fundamental de decisión de qué lanzamientos musicales apoyar para maximizar su éxito financiero.\n",
    "\n",
    "¿Cómo podemos utilizar la analítica de datos para predecir la popularidad de una canción? En esta tarea, nos desafiamos a nosotros mismos para predecir si una canción alcanzará un lugar en el Top 10 de la lista Billboard Hot 100."
   ]
  },
  {
   "cell_type": "markdown",
   "metadata": {},
   "source": [
    "### Objetivos de Aprendizaje\n",
    "\n",
    "Después de completar la lectura y los ejercicios de este capítulo, debería poder:\n",
    "* Explicar qué es la regresión logística, cómo se usa y los beneficios de usarla.\n",
    "* Reconocer el formato necesario para los datos para realizar regresiones logísticas predictivas.\n",
    "* Desarrollar un modelo de analítica de datos (IA) de regresión logística en Python o en [Orange3](https://orangedatamining.com) utilizando un conjunto de datos de entrenamiento.\n",
    "* Interpretar los resultados del modelo y aplicarlos a un conjunto de datos de puntuación para implementar el modelo."
   ]
  },
  {
   "cell_type": "markdown",
   "metadata": {},
   "source": [
    "### Comprendiendo los Datos\n",
    "\n",
    "Al aplicar un enfoque analítico, nuestro objetivo es utilizar información sobre las propiedades de una canción para predecir su popularidad. Las canciones del conjunto de datos (CSV) constan de todas las canciones que llegaron al Top 10 de la lista Billboard Hot 100 de 1990-2010 más una muestra de canciones adicionales que no llegaron al Top 10. Estos datos provienen de tres fuentes: [Wikipedia](http://en.wikipedia.org/wiki/Billboard_Hot_100), [Billboard.com](http://www.billboard.com/) y [EchoNest](https://en.wikipedia.org/wiki/The_Echo_Nest).\n",
    "\n",
    "Las variables incluidas en el conjunto de datos describen al artista o la canción, o están asociadas con los siguientes atributos de la canción: tipo de compás, volumen, tono, tempo y timbre.\n",
    "\n",
    "Aquí hay una descripción detallada de las variables:\n",
    "\n",
    "* **year** = el año en que se lanzó la canción\n",
    "* **songtitle** = el título de la canción\n",
    "* **artistname** = el nombre del artista de la canción\n",
    "* **songID** y **artistID** = variables de identificación para la canción y el artista\n",
    "* **timesignature** y **timesignature_confidence** = una variable que estima la firma de tiempo de la canción y la confianza en la estimación\n",
    "* **loudness** = una variable continua que indica la amplitud promedio del audio en decibelios\n",
    "* **tempo** y **tempo_confidence** = una variable que indica los latidos estimados por minuto de la canción y la confianza en la estimación\n",
    "* **key** y **key_confidence** = una variable con doce niveles que indica la clave estimada de la canción (C, C#, ..., B) y la confianza en la estimación\n",
    "* **energy** = una variable que representa la energía acústica general de la canción, utilizando una combinación de características como el volumen\n",
    "* **pitch** = una variable continua que indica el tono de la canción\n",
    "* **timbre_0_min**, **timbre_0_max**, **timbre_1_min**, **timbre_1_max**, ..., **timbre_11_min** y **timbre_11_max** = variables que indican los valores mínimo/máximo en todos los segmentos para cada uno de los doce valores en el vector de timbre (resultando en 24 variables continuas)\n",
    "* **Top10** = una variable binaria que indica si la canción llegó al Top 10 de la lista Billboard Hot 100 (1 si estaba en el top 10 y 0 si no lo estaba)"
   ]
  },
  {
   "cell_type": "markdown",
   "metadata": {},
   "source": [
    "### Preguntas de Revisión\n",
    "\n",
    "¿Cuál es el tipo de datos apropiado para las variables independientes (atributos de predicción) en la regresión logística? ¿Qué pasa con la variable dependiente (objetivo o atributo de etiqueta)?"
   ]
  },
  {
   "cell_type": "markdown",
   "metadata": {},
   "source": [
    "### Parte I"
   ]
  },
  {
   "cell_type": "markdown",
   "metadata": {},
   "source": [
    "**Problema 1.1** - Comprensión de los datos\n",
    "\n",
    "Utilice la función **File** para cargar el conjunto de datos \"songs.csv\".\n",
    "¿Cuántas observaciones (canciones) hay en total?"
   ]
  },
  {
   "cell_type": "markdown",
   "metadata": {},
   "source": [
    "**Problema 1.2** - Comprensión de los datos\n",
    "\n",
    "¿Cuántas canciones incluye el conjunto de datos cuyo nombre de artista es \"Michael Jackson\"?"
   ]
  },
  {
   "cell_type": "markdown",
   "metadata": {},
   "source": [
    "**Problema 2.1** - Creación de nuestro modelo de predicción\n",
    "\n",
    "Deseamos predecir si una canción llegará o no al Top 10. Para hacer esto, primero use la función de filtro para dividir los datos en un conjunto de entrenamiento \"SongsTrain\" que consta de todas las observaciones hasta el lanzamiento de canciones de 2009 inclusive, y un conjunto de pruebas \"SongsTest\", que consta de los lanzamientos de canciones de 2010.\n",
    "\n",
    "¿Cuántas observaciones (canciones) hay en el conjunto de entrenamiento?"
   ]
  },
  {
   "cell_type": "markdown",
   "metadata": {},
   "source": [
    "**Problema 2.3**: Creación de nuestro modelo de predicción\n",
    "\n",
    "Pensemos ahora en las variables de nuestro conjunto de datos relacionadas con la confianza del tipo de compás, la clave y el tempo (timesignature_confidence, key_confidence y tempo_confidence). Nuestro modelo parece indicar que estas variables de confianza son significativas (en lugar de las variables de firma de tiempo, clave y tempo en sí mismas). ¿Qué sugiere el modelo?\n",
    "\n",
    "¿Cual de estas dos opciones escogería?\n",
    "    \n",
    "1. Cuanto menor sea nuestra confianza en el tipo de compás, el tono y el tempo, es más probable que la canción esté en el Top 10.\n",
    "2. Cuanto mayor sea nuestra confianza en el tipo de compás, la clave y el tempo, es más probable que la canción esté entre las 10 mejores"
   ]
  },
  {
   "cell_type": "markdown",
   "metadata": {},
   "source": [
    "**Problema 2.3** - Creación de nuestro modelo de predicción\n",
    "\n",
    "En general, si la confianza en el compás, el tempo y la clave es baja, es más probable que la canción sea compleja. ¿Qué sugiere nuestro modelo en términos de complejidad?\n",
    "\n",
    "¿Cual de estas dos opciones escogería?\n",
    "\n",
    "1. Los oyentes convencionales tienden a preferir canciones más complejas.\n",
    "2. Los oyentes convencionales tienden a preferir canciones menos complejas"
   ]
  },
  {
   "cell_type": "markdown",
   "metadata": {},
   "source": [
    "**Problema 2.4** - Creación de nuestro modelo de predicción\n",
    "\n",
    "Las canciones con instrumentación más pesada tienden a ser más fuertes (tienen valores más altos en la variable \"loudness\").\n",
    "\n",
    "Al inspeccionar el coeficiente de la variable \"loudness\", ¿qué sugiere nuestro modelo?\n",
    "\n",
    "¿Cual de estas dos opciones escogería?\n",
    "\n",
    "1. Los oyentes convencionales prefieren canciones con instrumentación pesada\n",
    "2. Los oyentes convencionales prefieren canciones con instrumentación ligera"
   ]
  },
  {
   "cell_type": "markdown",
   "metadata": {},
   "source": [
    "**Problema 3.1** - Validación de nuestro modelo\n",
    "\n",
    "Realice predicciones sobre el conjunto de pruebas utilizando nuestro modelo. ¿Cuál es la precisión de nuestro modelo en el equipo de prueba, utilizando un umbral de 0,45? (Calcule la precisión como un número entre 0 y 1.)"
   ]
  },
  {
   "cell_type": "markdown",
   "metadata": {},
   "source": [
    "### ¡Desafío!"
   ]
  },
  {
   "cell_type": "markdown",
   "metadata": {},
   "source": [
    "**Problema 4.1**\n",
    "\n",
    "Para el ejercicio de este taller, utilizará la regresión logística para tratar de predecir si los jóvenes que conoce se graduarán eventualmente de la universidad o no.\n",
    "\n",
    "Complete los siguientes pasos:\n",
    "\n",
    "1. Abra una nueva hoja de cálculo en blanco con la herramienta de su gusto. En la parte inferior de la hoja de cálculo, habrá tres pestañas predeterminadas etiquetadas Hoja1, Hoja2, Hoja3. Cambie el nombre del primero a *Training* y la segunda a *Scoring*. Puede cambiar el nombre de las pestañas haciendo doble clic en sus etiquetas. Puede eliminar o ignorar la tercera hoja predeterminada.<br><br>\n",
    "2. En la hoja de training, comenzando en la celda A1 y continuando, cree etiquetas de atributo para cinco atributos: Parent_Grad, Gender, Income_Level, Num_Siblings y Graduate.<br><br>\n",
    "3. Copie cada uno de estos nombres de atributos, excepto Graduate, en la hoja de scoring.<br><br>\n",
    "4. En la hoja de training, ingrese valores para cada uno de los atributos de cada uno de los jóvenes que sepa que están en la edad en que podrían haberse graduado de la universidad en este momento. Estos pueden ser miembros de la familia, amigos y vecinos, compañeros de trabajo o compañeros de estudios, etc. Trate de hacer al menos 20 observaciones; 30 o más sería mejor. Introduzca las parejas de marido y mujer como dos observaciones separadas. Utilice lo siguiente para guiar sus datos de entrenamiento:\n",
    "    * Para Parent_Grad, ingrese un 0 si ninguno de los padres de la persona se graduó de la universidad, un 1 si uno de los padres lo hizo y un 2 si ambos padres lo hicieron. Si los padres de la persona obtuvieron un título de posgrado, podría experimentar haciendo que este atributo sea aún más interesante usándolo para tener el número total de títulos universitarios de los padres de la persona. Por ejemplo, si la persona representada en la observación tenía una madre que obtuvo una licenciatura, una maestría y un doctorado, y un padre que obtuvo una licenciatura y una maestría, podría ingresar un 5 en este atributo para esa persona.\n",
    "    * En Gender, ingrese 0 para mujeres y 1 para hombres.\n",
    "    * Para Income_Level, ingrese un 0 si la persona vive en un hogar con un nivel de ingresos por debajo de lo que consideraría estar por debajo del promedio, un 1 para el promedio y un 2 para un promedio superior. Puede estimar o generalizar. Sea sensible con los demás cuando recopile sus datos; no fisgonee demasiado ni se arriesgue a ofender a los interesados.\n",
    "    * Para Num_Siblings, ingrese la cantidad de hermanos que tiene la persona.\n",
    "    * En Graduated, escriba \"Sí\" si la persona se graduó de la universidad y \"No\" si no lo hizo.<br><br>\n",
    "5. Una vez que haya compilado su conjunto de datos de entrenamiento, cambie a la hoja de scoring. Repita el proceso de entrada de datos para al menos 20 (más es mejor) jóvenes de entre 0 y 18 años que conozca. Utilizará el conjunto de capacitación para tratar de predecir si estos jóvenes se graduarán o no de la universidad y, de ser así, qué confianza tiene en su predicción. Recuerde que estos son sus datos de puntuación, por lo que no proporcionará el atributo Graduado, lo predecirá en breve.<br><br>\n",
    "6. Utilice la opción de menú Archivo> Guardar como para guardar sus hojas de entrenamiento y puntuación como archivos CSV.<br><br>\n",
    "7. Importe sus dos archivos CSV a su repositorio de trabajo. Asegúrese de darles nombres descriptivos.<br><br>\n",
    "8. Arrastre sus dos conjuntos de datos a una nueva ventana de proceso. Si ha preparado bien sus datos, no debería tener ningún dato faltante o inconsistente con el que lidiar, por lo que la preparación de datos debe ser mínima. Cambie el nombre de los dos operadores de recuperación para que pueda distinguir la diferencia entre su entrenamiento y los conjuntos de datos de puntuación.<br><br>\n",
    "9. Un paso de preparación de datos necesario es agregar un operador Set Role y definir el atributo Graduate como su etiqueta en sus datos de entrenamiento. Alternativamente, puede establecer su atributo Graduate como la etiqueta durante la importación de datos.<br><br>\n",
    "10. Agregue un operador de Regresión logística a su flujo de entrenamiento.<br><br>\n",
    "11. Aplique su modelo de regresión logística a sus datos de scoring y ejecute su modelo. Evalúe e informe sus resultados. ¿Son interesantes sus porcentajes de confianza? ¿Sorprendente? ¿Los valores de graduación previstos parecen razonables y coherentes con sus datos de entrenamiento? ¿Alguna variable independiente (atributo predictor) parece ser un predictor particularmente bueno de la variable dependiente (etiqueta o atributo de predicción)? Si es así, ¿por qué lo cree?"
   ]
  },
  {
   "cell_type": "markdown",
   "metadata": {},
   "source": [
    "### Resumen\n",
    "\n",
    "La regresión logística es una excelente manera de predecir si sucederá algo o no, y qué tan seguros estamos de tales predicciones. Tiene en cuenta una serie de atributos numéricos y luego los utiliza a través de un conjunto de datos de entrenamiento para predecir los resultados probables en un conjunto de datos de puntuación comparable. La regresión logística utiliza un atributo objetivo nominal (o etiqueta) para categorizar las observaciones en un conjunto de datos de puntuación en sus resultados probables.\n",
    "\n",
    "Al igual que con la regresión lineal, los datos de puntuación deben tener rangos que se encuentren dentro de sus rangos de datos de entrenamiento correspondientes. Sin tales límites, no es seguro ni prudente hacer suposiciones sobre las observaciones en el conjunto de datos de puntuación, ya que no hay observaciones comparables en los datos de entrenamiento en las que basar sus suposiciones de puntuación. Sin embargo, cuando se usa dentro de estos límites, la regresión logística puede ayudarnos a predecir rápida y fácilmente el resultado de algún fenómeno en un conjunto de datos, y a determinar qué tan seguros podemos estar en la precisión de esa predicción."
   ]
  },
  {
   "cell_type": "code",
   "execution_count": null,
   "metadata": {},
   "outputs": [],
   "source": []
  }
 ],
 "metadata": {
  "kernelspec": {
   "display_name": "softc",
   "language": "python",
   "name": "softc"
  },
  "language_info": {
   "codemirror_mode": {
    "name": "ipython",
    "version": 3
   },
   "file_extension": ".py",
   "mimetype": "text/x-python",
   "name": "python",
   "nbconvert_exporter": "python",
   "pygments_lexer": "ipython3",
   "version": "3.6.13"
  }
 },
 "nbformat": 4,
 "nbformat_minor": 4
}
